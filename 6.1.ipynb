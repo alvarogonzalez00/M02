{
 "cells": [
  {
   "cell_type": "code",
   "execution_count": null,
   "id": "87b99b45-7619-433e-97d8-4b4a65fc5882",
   "metadata": {},
   "outputs": [],
   "source": [
    "#Author: Alvaro Gonzalez\n",
    "#Purpose: THe program prints the values in the list"
   ]
  },
  {
   "cell_type": "code",
   "execution_count": 25,
   "id": "0804eb68-f55a-4866-9de4-d79106044f5f",
   "metadata": {},
   "outputs": [
    {
     "ename": "SyntaxError",
     "evalue": "unexpected character after line continuation character (2945753091.py, line 4)",
     "output_type": "error",
     "traceback": [
      "\u001b[0;36m  Cell \u001b[0;32mIn[25], line 4\u001b[0;36m\u001b[0m\n\u001b[0;31m    print(int ''\\'')\u001b[0m\n\u001b[0m                 ^\u001b[0m\n\u001b[0;31mSyntaxError\u001b[0m\u001b[0;31m:\u001b[0m unexpected character after line continuation character\n"
     ]
    }
   ],
   "source": [
    "num_list = [3, 2, 1, 0]\n",
    "\n",
    "for int in num_list:\n",
    "    print(int)\n",
    "    "
   ]
  }
 ],
 "metadata": {
  "kernelspec": {
   "display_name": "anaconda-panel-2023.05-py310",
   "language": "python",
   "name": "conda-env-anaconda-panel-2023.05-py310-py"
  },
  "language_info": {
   "codemirror_mode": {
    "name": "ipython",
    "version": 3
   },
   "file_extension": ".py",
   "mimetype": "text/x-python",
   "name": "python",
   "nbconvert_exporter": "python",
   "pygments_lexer": "ipython3",
   "version": "3.11.4"
  }
 },
 "nbformat": 4,
 "nbformat_minor": 5
}
