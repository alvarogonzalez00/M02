{
 "cells": [
  {
   "cell_type": "code",
   "execution_count": 9,
   "id": "22529541-b62f-484a-a2b6-de2d97a563fa",
   "metadata": {},
   "outputs": [],
   "source": [
    "#Author: Alvaro Gonzalez\n",
    "#Purpose: The program checks an given items meet true or false variables"
   ]
  },
  {
   "cell_type": "code",
   "execution_count": 20,
   "id": "e411ee01-0fe2-4ce8-ba97-d12278833c45",
   "metadata": {},
   "outputs": [],
   "source": [
    "small = False\n",
    "green = False"
   ]
  },
  {
   "cell_type": "code",
   "execution_count": 22,
   "id": "28f8e8bd-dcde-461e-beac-f1a00a1f15bf",
   "metadata": {},
   "outputs": [
    {
     "name": "stdout",
     "output_type": "stream",
     "text": [
      "pumpkin\n"
     ]
    }
   ],
   "source": [
    "if small:\n",
    "    if green:\n",
    "        print(\"pea\")\n",
    "    else:\n",
    "        print(\"cherry\")\n",
    "else:\n",
    "    if green:\n",
    "        print(\"watermelon\")\n",
    "    else:\n",
    "        print(\"pumpkin\")\n",
    "        "
   ]
  }
 ],
 "metadata": {
  "kernelspec": {
   "display_name": "anaconda-panel-2023.05-py310",
   "language": "python",
   "name": "conda-env-anaconda-panel-2023.05-py310-py"
  },
  "language_info": {
   "codemirror_mode": {
    "name": "ipython",
    "version": 3
   },
   "file_extension": ".py",
   "mimetype": "text/x-python",
   "name": "python",
   "nbconvert_exporter": "python",
   "pygments_lexer": "ipython3",
   "version": "3.11.4"
  }
 },
 "nbformat": 4,
 "nbformat_minor": 5
}
