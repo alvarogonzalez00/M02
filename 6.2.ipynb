{
 "cells": [
  {
   "cell_type": "code",
   "execution_count": null,
   "id": "aba23f6d-46c8-4738-8916-90bd335a630f",
   "metadata": {},
   "outputs": [],
   "source": [
    "#Author: Alvaro Gonzalez\n",
    "#Purpose: The program uses a for loop to guess a number correctly"
   ]
  },
  {
   "cell_type": "code",
   "execution_count": 40,
   "id": "5c6265d6-850b-48c9-be5a-fe32c0088fcc",
   "metadata": {},
   "outputs": [],
   "source": [
    "guess_me = 7"
   ]
  },
  {
   "cell_type": "code",
   "execution_count": 48,
   "id": "173283a2-9aaa-40ac-a5db-b93f78d237f7",
   "metadata": {},
   "outputs": [],
   "source": [
    "number = 1"
   ]
  },
  {
   "cell_type": "code",
   "execution_count": 49,
   "id": "50f9d2d0-6527-469e-9c79-71f08cdcdb55",
   "metadata": {},
   "outputs": [
    {
     "name": "stdout",
     "output_type": "stream",
     "text": [
      "too low\n",
      "too low\n",
      "too low\n",
      "too low\n",
      "too low\n",
      "too low\n",
      "Found it!\n"
     ]
    }
   ],
   "source": [
    "while True:\n",
    "    if number == guess_me:\n",
    "        print(\"Found it!\")\n",
    "        break\n",
    "    elif number < guess_me:\n",
    "        print(\"too low\")\n",
    "        number += 1\n",
    "    else:\n",
    "        print(\"oops\")\n",
    "        break"
   ]
  },
  {
   "cell_type": "code",
   "execution_count": null,
   "id": "edc1759e-9d84-46e8-89e0-83b97eb32b97",
   "metadata": {},
   "outputs": [],
   "source": []
  },
  {
   "cell_type": "code",
   "execution_count": null,
   "id": "177dcd64-c58d-4f04-ba2f-522483c0540d",
   "metadata": {},
   "outputs": [],
   "source": []
  }
 ],
 "metadata": {
  "kernelspec": {
   "display_name": "anaconda-panel-2023.05-py310",
   "language": "python",
   "name": "conda-env-anaconda-panel-2023.05-py310-py"
  },
  "language_info": {
   "codemirror_mode": {
    "name": "ipython",
    "version": 3
   },
   "file_extension": ".py",
   "mimetype": "text/x-python",
   "name": "python",
   "nbconvert_exporter": "python",
   "pygments_lexer": "ipython3",
   "version": "3.11.4"
  }
 },
 "nbformat": 4,
 "nbformat_minor": 5
}
