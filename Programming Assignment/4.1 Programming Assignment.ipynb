{
 "cells": [
  {
   "cell_type": "code",
   "execution_count": 2,
   "id": "d6a91b5f-8e6c-4bb0-b4a0-e7e425860399",
   "metadata": {},
   "outputs": [],
   "source": [
    "#Author: Alvaro Gonzalez\n",
    "#Purpose: The program will set a given number as the secret number. It will check\n",
    "#user's input and say if it is correct or dictate if it's too high or too low"
   ]
  },
  {
   "cell_type": "code",
   "execution_count": 3,
   "id": "19ff011f-25cd-464a-bd2e-d6667c91e5cb",
   "metadata": {},
   "outputs": [],
   "source": [
    "secret = 6"
   ]
  },
  {
   "cell_type": "code",
   "execution_count": 4,
   "id": "d8d9c15c-1433-4d25-a031-79182edfae6d",
   "metadata": {},
   "outputs": [],
   "source": [
    "#set secret to a random integer"
   ]
  },
  {
   "cell_type": "markdown",
   "id": "c18a4081-8549-4f8e-a74d-4e23d1d8b0aa",
   "metadata": {},
   "source": [
    "guess = int ( input(\"Guess a number between 1-10\"))"
   ]
  },
  {
   "cell_type": "code",
   "execution_count": null,
   "id": "cecc3ec7-df6d-4f38-8704-9254f8705006",
   "metadata": {},
   "outputs": [],
   "source": [
    "#Set user input to guess variable to check in if loop"
   ]
  },
  {
   "cell_type": "code",
   "execution_count": 8,
   "id": "cade00fc-b841-40f6-8611-64bb058a1b6a",
   "metadata": {},
   "outputs": [
    {
     "name": "stdout",
     "output_type": "stream",
     "text": [
      "Just right\n"
     ]
    }
   ],
   "source": [
    "if guess == secret:\n",
    "    print(\"Just right\")\n",
    "elif guess > secret:\n",
    "    print(\"too high\")\n",
    "else:\n",
    "    print(\"too low\")"
   ]
  },
  {
   "cell_type": "code",
   "execution_count": null,
   "id": "dd042ad4-5f86-47fa-a602-72495d72c0e0",
   "metadata": {},
   "outputs": [],
   "source": [
    "#Check input against secret variable"
   ]
  }
 ],
 "metadata": {
  "kernelspec": {
   "display_name": "anaconda-panel-2023.05-py310",
   "language": "python",
   "name": "conda-env-anaconda-panel-2023.05-py310-py"
  },
  "language_info": {
   "codemirror_mode": {
    "name": "ipython",
    "version": 3
   },
   "file_extension": ".py",
   "mimetype": "text/x-python",
   "name": "python",
   "nbconvert_exporter": "python",
   "pygments_lexer": "ipython3",
   "version": "3.11.4"
  }
 },
 "nbformat": 4,
 "nbformat_minor": 5
}
