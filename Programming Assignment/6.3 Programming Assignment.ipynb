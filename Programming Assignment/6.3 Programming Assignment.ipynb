{
 "cells": [
  {
   "cell_type": "code",
   "execution_count": 7,
   "id": "421f2192-f584-4a64-b648-a1bbb4072a58",
   "metadata": {},
   "outputs": [],
   "source": [
    "#Author: Alvaro Gonzalez\n",
    "#Purpose: Program guesses the correct number using a for loop and range()"
   ]
  },
  {
   "cell_type": "code",
   "execution_count": 9,
   "id": "d8eee071-37fc-4bee-a5ee-eb295c1be11c",
   "metadata": {},
   "outputs": [],
   "source": [
    "guess_me = 5"
   ]
  },
  {
   "cell_type": "code",
   "execution_count": 11,
   "id": "49b381e4-7e61-49c2-ba3c-883fea43a249",
   "metadata": {},
   "outputs": [
    {
     "name": "stdout",
     "output_type": "stream",
     "text": [
      "too low\n",
      "too low\n",
      "too low\n",
      "too low\n",
      "found it!\n"
     ]
    }
   ],
   "source": [
    "for number in range(1,10):\n",
    "    if number < guess_me:\n",
    "        print(\"too low\")\n",
    "        number += 1\n",
    "    elif number == guess_me:\n",
    "        print(\"found it!\")\n",
    "        break\n",
    "    else:\n",
    "        print(\"oops\")\n",
    "        break"
   ]
  }
 ],
 "metadata": {
  "kernelspec": {
   "display_name": "anaconda-panel-2023.05-py310",
   "language": "python",
   "name": "conda-env-anaconda-panel-2023.05-py310-py"
  },
  "language_info": {
   "codemirror_mode": {
    "name": "ipython",
    "version": 3
   },
   "file_extension": ".py",
   "mimetype": "text/x-python",
   "name": "python",
   "nbconvert_exporter": "python",
   "pygments_lexer": "ipython3",
   "version": "3.11.4"
  }
 },
 "nbformat": 4,
 "nbformat_minor": 5
}
